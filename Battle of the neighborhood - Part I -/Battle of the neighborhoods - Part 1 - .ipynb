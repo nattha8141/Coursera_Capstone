{
 "cells": [
  {
   "cell_type": "markdown",
   "metadata": {},
   "source": [
    "# Hello World!\n",
    "## Battle of Neighborhoods - Part I -\n",
    "\n",
    "Welcome to my Battle of Neighborhoods project, For the first part of this project I will tell you about the Business Problem and the data that I will be using to solve the problem."
   ]
  },
  {
   "cell_type": "markdown",
   "metadata": {},
   "source": [
    "## Introduction"
   ]
  },
  {
   "cell_type": "markdown",
   "metadata": {},
   "source": [
    "The potential of the coffee industry in Indonesia is quite large. Because, as a tropical country, Indonesia is a suitable location for coffee cultivation. Therefore, the cultivation and management of Indonesian specialty coffee is a strategic step that must continue to be developed. The culture of drinking coffee has indeed spread to various countries not only in Indonesia. There is a very high demand for coffee which makes the coffee business opportunity more profitable. The coffee business has become one of the businesses that has been taken into account where the beverage product is in high demand.\n",
    "\n",
    "Jakarta is one of the cities in Indonesia which has a lot of coffee shops. From 2013 until the end of 2018, there have been several coffee shops spreads around every corner of the capital city of Jakarta, even from several locations of offices, schools, or campuses. this report will be targeted to a client interested in opening a Coffee shop in Jakarta, Indonesia."
   ]
  },
  {
   "cell_type": "markdown",
   "metadata": {},
   "source": [
    "## Business Problem"
   ]
  },
  {
   "cell_type": "markdown",
   "metadata": {},
   "source": [
    "One of the client is interested to open a specialty coffee shop in Jakarta. Unfortunately, he has issue on making a decision about the location to open the coffee shop. Though, the client is quite optimist of his homegrown specialty coffee. His first issue is that he wanted to know which place has lesser competition so that he can grow his business in a stable pace without fighting over customer, whether it is battle between coffee shops or other kind of cafes or restaurant. The second concern is that he wanted the place to not very far away from his supplier in the central Jakarta to minimize the time in retrieving the supply from the supplier. Finally, last but not least, he wanted the place to have an adequate population. So, where will I recommend the best place for him to open the coffee shop?"
   ]
  },
  {
   "cell_type": "markdown",
   "metadata": {},
   "source": [
    "## The choice of data that I will use\n",
    "\n",
    "In order to solve the problem, I need a precise data that can tell the population of each district. Furthermore, the data should also can tell the nighborhood within each district since that data will be used on the last section to see the distance on each neighborhood from the central Jakarta (supplier's place) and the population within the neighborhood. So, I will use the following data:  \n",
    "1. Dataset from [Jakarta Open Data](http://data.jakarta.go.id/dataset/data-jumlah-penduduk-provinsi-dki-jakarta-berdasarkan-kelompok-usia-per-kelurahan). I choose to use this data since it is the most up to date within the site.  \n",
    "This data consists of:  \n",
    "  * The name of districts and neighborhoods\n",
    "  * The spread of population based on gender (Male and Female)\n",
    "  * The spread of population based on age (from 0 to above 75 years old with 4 years step)\n",
    "  * The cities, districts and neighborhood of those population’s spread  \n",
    "  \n",
    "\n",
    "2. Latitude and Longitude from geopy.geocoders package that will be cast on each data  \n",
    "3. Venues list that I can get from real-time foursquare API"
   ]
  },
  {
   "cell_type": "markdown",
   "metadata": {},
   "source": [
    "## Method in solving this problem\n",
    "\n",
    "In this project I will utilize unsupervised machine learning algorithm which is clustering. But, before I go to that part, the first thing I need to do is to pre-process the data\n",
    "1. On the Dataset from Jakarta Open Data, I will sort the data and group it by district, before I sum the population to get a new column, I will drop the population whose age is in the range 0-4 since those population is rather out from the target market (in case growth hacking is needed), another opinion as why I don't drop the age >75 is because from my personal experience some of those people are indeed still drink coffee in Indonesia. At this point, I will have a sorted data about Jakarta grouped by district.  \n",
    "2. After that I will contruct a function to get the latitude and longitude from each district (please note i will not use the post code to get the list of the latitude and longitude, but I will cast the district instead.)\n",
    "3. Next, I will get the list of venues from foursquare API and then cluster it with unsupervised machine learning clustering algorithm (in this case, I will use K-means) to see the place with less competition whether it is another coffee shops or cafes.\n",
    "4. After I got the cluster from each label with the best K, I will pick the clusters that look promising (have less competition as the first concern from the client)\n",
    "5. Next, I will sort the data from the picked clusters to see the distance from the supplier to pick the best district.\n",
    "6. Finally, after I got the result I will plot the neighborhood population within the best district so the client can see the comparison between each places before he makes the final decision."
   ]
  },
  {
   "cell_type": "markdown",
   "metadata": {},
   "source": [
    "(Note : If you want to know the general idea of the project, you can take a glimpse of the final report in this [Link](https://github.com/nattha8141/Coursera_Capstone/tree/master/Battle%20of%20the%20neighborhood%20-%20Final%20-))"
   ]
  }
 ],
 "metadata": {
  "kernelspec": {
   "display_name": "Python 3",
   "language": "python",
   "name": "python3"
  },
  "language_info": {
   "codemirror_mode": {
    "name": "ipython",
    "version": 3
   },
   "file_extension": ".py",
   "mimetype": "text/x-python",
   "name": "python",
   "nbconvert_exporter": "python",
   "pygments_lexer": "ipython3",
   "version": "3.7.4"
  }
 },
 "nbformat": 4,
 "nbformat_minor": 2
}
